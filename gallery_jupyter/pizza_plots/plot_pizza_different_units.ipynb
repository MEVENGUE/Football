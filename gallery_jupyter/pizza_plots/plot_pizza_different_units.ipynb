{
  "cells": [
    {
      "cell_type": "code",
      "execution_count": null,
      "metadata": {
        "collapsed": false
      },
      "outputs": [],
      "source": [
        "%matplotlib inline"
      ]
    },
    {
      "cell_type": "markdown",
      "metadata": {},
      "source": [
        "\n# Different Units Pizza\n\n* Author: `slothfulwave612 <https://twitter.com/slothfulwave612>`_\n\n* ``mplsoccer``, ``py_pizza`` module helps one to plot pizza charts in a few lines of code.\n\n* The design idea is inspired by `Tom Worville <https://twitter.com/Worville>`_, `Football Slices <https://twitter.com/FootballSlices>`_ and `Soma Zero FC <https://twitter.com/somazerofc>`_\n\n* We have re-written `Soumyajit Bose's <https://twitter.com/Soumyaj15209314>`_  pizza chart code to enable greater customisation.\n\nHere we plot a pizza chart where the parameters have the same units, but the maximum\nis five instead of 100.\n"
      ]
    },
    {
      "cell_type": "code",
      "execution_count": null,
      "metadata": {
        "collapsed": false
      },
      "outputs": [],
      "source": [
        "import matplotlib.pyplot as plt\n\nfrom mplsoccer import PyPizza, FontManager"
      ]
    },
    {
      "cell_type": "markdown",
      "metadata": {},
      "source": [
        "## Load some fonts\nWe will use mplsoccer's FontManager to load some fonts from Google Fonts.\nWe borrowed the FontManager from the excellent\n`ridge_map library <https://github.com/ColCarroll/ridge_map>`_.\n\n"
      ]
    },
    {
      "cell_type": "code",
      "execution_count": null,
      "metadata": {
        "collapsed": false
      },
      "outputs": [],
      "source": [
        "font_normal = FontManager((\"https://github.com/google/fonts/blob/main/apache/roboto/static/\"\n                           \"Roboto-Regular.ttf?raw=true\"))\nfont_italic = FontManager((\"https://github.com/google/fonts/blob/main/apache/roboto/static/\"\n                           \"Roboto-Italic.ttf?raw=true\"))\nfont_bold = FontManager((\"https://github.com/google/fonts/blob/main/apache/roboto/static/\"\n                         \"Roboto-Medium.ttf?raw=true\"))"
      ]
    },
    {
      "cell_type": "markdown",
      "metadata": {},
      "source": [
        "## Different Units\nTill now we were plotting a percentile chart where the upper limit was 100.\nLet's take another example where the lower limit is 0 and upper limit is 5.\nThe below code shows how to plot pizza-chart for such case.\n\n"
      ]
    },
    {
      "cell_type": "code",
      "execution_count": null,
      "metadata": {
        "collapsed": false
      },
      "outputs": [],
      "source": [
        "# parameter and value list\nparams = ['Speed', 'Agility', 'Strength', 'Passing', 'Dribbles']\nvalues = [5, 2, 4, 3, 1]\n\n# instantiate PyPizza class\nbaker = PyPizza(\n    params=params,                  # list of parameters\n    straight_line_color=\"#F2F2F2\",  # color for straight lines\n    straight_line_lw=1,             # linewidth for straight lines\n    straight_line_limit=5.0,        # max limit of straight lines\n    last_circle_lw=0,               # linewidth of last circle\n    other_circle_lw=0,              # linewidth for other circles\n    inner_circle_size=0.4,          # size of inner circle\n)\n\n# plot pizza\nfig, ax = baker.make_pizza(\n    values,                     # list of values\n    figsize=(8, 8),             # adjust figsize according to your need\n    color_blank_space=\"same\",   # use same color to fill blank space\n    blank_alpha=0.4,            # alpha for blank-space colors\n    param_location=5.5,         # where the parameters will be added\n    kwargs_slices=dict(\n        facecolor=\"cornflowerblue\", edgecolor=\"#F2F2F2\",\n        zorder=2, linewidth=1\n    ),                          # values to be used when plotting slices\n    kwargs_params=dict(\n        color=\"#000000\", fontsize=12,\n        fontproperties=font_normal.prop, va=\"center\"\n    ),                          # values to be used when adding parameter\n    kwargs_values=dict(\n        color=\"#000000\", fontsize=12,\n        fontproperties=font_normal.prop, zorder=3,\n        bbox=dict(\n            edgecolor=\"#000000\", facecolor=\"cornflowerblue\",\n            boxstyle=\"round,pad=0.2\", lw=1\n        )\n    )                           # values to be used when adding parameter-values\n)\n\n# add title\nfig.text(\n    0.515, 0.97, \"Player Name - Team Name\", size=18,\n    ha=\"center\", fontproperties=font_bold.prop, color=\"#000000\"\n)\n\n# add subtitle\nfig.text(\n    0.515, 0.942,\n    \"Rank vs Player's Position | Season Name\",\n    size=15,\n    ha=\"center\", fontproperties=font_bold.prop, color=\"#000000\"\n)\n\nplt.show()"
      ]
    }
  ],
  "metadata": {
    "kernelspec": {
      "display_name": "Python 3",
      "language": "python",
      "name": "python3"
    },
    "language_info": {
      "codemirror_mode": {
        "name": "ipython",
        "version": 3
      },
      "file_extension": ".py",
      "mimetype": "text/x-python",
      "name": "python",
      "nbconvert_exporter": "python",
      "pygments_lexer": "ipython3",
      "version": "3.10.5"
    }
  },
  "nbformat": 4,
  "nbformat_minor": 0
}