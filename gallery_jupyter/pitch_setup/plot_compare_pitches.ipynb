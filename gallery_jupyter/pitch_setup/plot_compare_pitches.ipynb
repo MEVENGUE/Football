{
  "cells": [
    {
      "cell_type": "code",
      "execution_count": null,
      "metadata": {
        "collapsed": false
      },
      "outputs": [],
      "source": [
        "%matplotlib inline"
      ]
    },
    {
      "cell_type": "markdown",
      "metadata": {},
      "source": [
        "\n# Pitch comparison\n"
      ]
    },
    {
      "cell_type": "code",
      "execution_count": null,
      "metadata": {
        "collapsed": false
      },
      "outputs": [],
      "source": [
        "from mplsoccer import Pitch\nimport matplotlib.pyplot as plt\nplt.style.use('dark_background')\n\nfig, axes = plt.subplots(4, 2, figsize=(12, 14))\naxes = axes.ravel()\npitch_kwargs = {'line_color': '#94A7AE', 'axis': True, 'label': True, 'pad_left': 0,\n                'pad_right': 0, 'pad_top': 0, 'pad_bottom': 0, 'linewidth': 1}\npitch_types = ['statsbomb', 'opta', 'tracab', 'skillcorner', 'wyscout',\n               'metricasports', 'uefa', 'custom']\nFONTCOLOR = '#b6b9ea'\narrowprops = {'arrowstyle': '->', 'lw': 4,\n              'connectionstyle': 'angle3,angleA=0,angleB=-90', 'color': FONTCOLOR}\nfont_kwargs = {'fontsize': 14, 'ha': 'center', 'va': 'bottom', 'fontweight': 'bold',\n               'fontstyle': 'italic', 'c': FONTCOLOR}\n\nfor idx, pt in enumerate(pitch_types):\n    if pt in ['tracab', 'metricasports', 'custom', 'skillcorner']:\n        pitch = Pitch(pitch_type=pt, pitch_length=105, pitch_width=68, **pitch_kwargs)\n    else:\n        pitch = Pitch(pitch_type=pt, **pitch_kwargs)\n    pitch.draw(axes[idx])\n    xmin, xmax, ymin, ymax = pitch.extent\n    if pitch.dim.aspect != 1:\n        TEXT = 'data coordinates \\n are square (1:1) \\n scale up to a real-pitch size'\n        axes[idx].annotate(TEXT, xy=(xmin, ymin), xytext=(0 + (xmax - xmin)/2, ymin),\n                           **font_kwargs)\n    axes[idx].xaxis.set_ticks([xmin, xmax])\n    axes[idx].yaxis.set_ticks([ymin, ymax])\n    axes[idx].tick_params(labelsize=15)\n    if pt == 'skillcorner':\n        axes[idx].set_title('skillcorner / secondspectrum', fontsize=20, c='#9749b9', pad=15)\n    else:\n        axes[idx].set_title(pt, fontsize=20, c='#9749b9', pad=15)\n    if pitch.dim.invert_y:\n        TEXT = 'inverted y axis'\n        xytext = (0 + (xmax - xmin)/2, ymin + (ymax - ymin)/2)\n        axes[idx].annotate(TEXT, xy=(xmin, ymin), xytext=xytext,\n                           arrowprops=arrowprops, **font_kwargs)\n        axes[idx].annotate(TEXT, xy=(xmin, ymax), xytext=xytext,\n                           alpha=0, arrowprops=arrowprops, **font_kwargs)\n    if xmin < 0:\n        TEXT = ('x and y axes are negative \\n starts at -len/2 and -width/2'\n                '\\n ends at len/2 and width/2.')\n        if pt == 'tracab':\n            xytext = (0, -1000)\n            TEXT = TEXT + '\\n dimensions in centimeters'\n        else:\n            xytext = (0, -10)\n            TEXT = TEXT + '\\n dimensions in meters'\n        axes[idx].annotate(TEXT, xy=(xmin, ymin), xytext=xytext,\n                           arrowprops=arrowprops, **font_kwargs)\n        axes[idx].annotate(TEXT, xy=(xmax, ymin), xytext=xytext,\n                           alpha=0, arrowprops=arrowprops, **font_kwargs)\n        axes[idx].annotate(TEXT, xy=(xmin, ymax), xytext=xytext,\n                           alpha=0, arrowprops=arrowprops, **font_kwargs)\n    if pt == 'custom':\n        TEXT = 'decide the pitch dimensions\\n via pitch_length and pitch_width'\n        xytext = (0 + (xmax - xmin)/2, ymin + (ymax - ymin)/2)\n        axes[idx].annotate(TEXT, xy=(xmin, ymax), xytext=xytext,\n                           arrowprops=arrowprops, **font_kwargs)\n        axes[idx].annotate(TEXT, xy=(xmax, ymin), xytext=xytext,\n                           alpha=0, arrowprops=arrowprops, **font_kwargs)\nfig.tight_layout()\n\nplt.show()  # If you are using a Jupyter notebook you do not need this line"
      ]
    }
  ],
  "metadata": {
    "kernelspec": {
      "display_name": "Python 3",
      "language": "python",
      "name": "python3"
    },
    "language_info": {
      "codemirror_mode": {
        "name": "ipython",
        "version": 3
      },
      "file_extension": ".py",
      "mimetype": "text/x-python",
      "name": "python",
      "nbconvert_exporter": "python",
      "pygments_lexer": "ipython3",
      "version": "3.10.5"
    }
  },
  "nbformat": 4,
  "nbformat_minor": 0
}