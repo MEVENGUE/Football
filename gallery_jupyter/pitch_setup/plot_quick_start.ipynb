{
  "cells": [
    {
      "cell_type": "code",
      "execution_count": null,
      "metadata": {
        "collapsed": false
      },
      "outputs": [],
      "source": [
        "%matplotlib inline"
      ]
    },
    {
      "cell_type": "markdown",
      "metadata": {},
      "source": [
        "\n# Quick start\n"
      ]
    },
    {
      "cell_type": "code",
      "execution_count": null,
      "metadata": {
        "collapsed": false
      },
      "outputs": [],
      "source": [
        "import matplotlib.pyplot as plt\nfrom mplsoccer import Pitch, Radar\n\n# plot a StatsBomb pitch\npitch = Pitch(pitch_color='grass', line_color='white', stripe=True)\nfig, ax = pitch.draw()\n\n# plot a basic Radar\nradar = Radar(params=['Agility', 'Speed', 'Strength'], min_range=[0, 0, 0],\n              max_range=[10, 10, 10])\nfig, ax = radar.setup_axis()\nrings_inner = radar.draw_circles(ax=ax, facecolor='#ffb2b2', edgecolor='#fc5f5f')\nvalues = [5, 3, 10]\nradar_poly, rings, vertices = radar.draw_radar(values, ax=ax,\n                                               kwargs_radar={'facecolor': '#00f2c1', 'alpha': 0.6},\n                                               kwargs_rings={'facecolor': '#d80499', 'alpha': 0.6})\nrange_labels = radar.draw_range_labels(ax=ax)\nparam_labels = radar.draw_param_labels(ax=ax)\n\nplt.show()  # If you are using a Jupyter notebook you do not need this line"
      ]
    }
  ],
  "metadata": {
    "kernelspec": {
      "display_name": "Python 3",
      "language": "python",
      "name": "python3"
    },
    "language_info": {
      "codemirror_mode": {
        "name": "ipython",
        "version": 3
      },
      "file_extension": ".py",
      "mimetype": "text/x-python",
      "name": "python",
      "nbconvert_exporter": "python",
      "pygments_lexer": "ipython3",
      "version": "3.10.5"
    }
  },
  "nbformat": 4,
  "nbformat_minor": 0
}