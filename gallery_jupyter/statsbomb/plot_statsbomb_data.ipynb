{
  "cells": [
    {
      "cell_type": "code",
      "execution_count": null,
      "metadata": {
        "collapsed": false
      },
      "outputs": [],
      "source": [
        "%matplotlib inline"
      ]
    },
    {
      "cell_type": "markdown",
      "metadata": {},
      "source": [
        "\n# StatsBomb\n\nmplsoccer contains functions to return StatsBomb data in a flat, tidy dataframe.\nHowever, if you want to flatten the json into a dictionary you can also set ``dataframe=False``.\n\nPlease be responsible with Statsbomb data.\n`Register your details <https://www.statsbomb.com/resource-centre>`_ and\nread the user agreement carefully (on the same page).\n\nIt can be used with the StatBomb `open-data <https://github.com/statsbomb/open-data>`_\nor the StatsBomb API if you are lucky enough to have access:\n\nStatsBomb API:\n\n.. code-block:: python\n\n    # this only works if you have access\n    # to the StatsBomb API and assumes\n    # you have set the environmental\n    # variables SB_USERNAME\n    # and SB_PASSWORD\n    # otherwise pass the arguments:\n    # parser = Sbapi(username='changeme',\n    # password='changeme')\n    from mplsoccer import Sbapi\n    parser = Sbapi(dataframe=True)\n    (events, related,\n    freeze, tactics) = parser.event(3788741)\n\nStatsBomb local data:\n\n.. code-block:: python\n\n    from mplsoccer import Sblocal\n    parser = Sblocal(dataframe=True)\n    (events, related,\n    freeze, tactics) = parser.event(3788741)\n\nHere are some alternatives to mplsoccer's statsbomb module:\n\n- `statsbombapi <https://github.com/Torvaney/statsbombapi>`_\n- `statsbombpy <https://github.com/statsbomb/statsbombpy>`_\n- `statsbomb-parser <https://github.com/imrankhan17/statsbomb-parser>`_\n"
      ]
    },
    {
      "cell_type": "code",
      "execution_count": null,
      "metadata": {
        "collapsed": false
      },
      "outputs": [],
      "source": [
        "from mplsoccer import Sbopen\n\n# instantiate a parser object\nparser = Sbopen()"
      ]
    },
    {
      "cell_type": "markdown",
      "metadata": {},
      "source": [
        "## Competition data\nGet the competition data as a dataframe\n\n"
      ]
    },
    {
      "cell_type": "code",
      "execution_count": null,
      "metadata": {
        "collapsed": false
      },
      "outputs": [],
      "source": [
        "df_competition = parser.competition()\ndf_competition.info()"
      ]
    },
    {
      "cell_type": "markdown",
      "metadata": {},
      "source": [
        "## Match data\nGet the match data as a dataframe\nNote there is a mismatch between the length of this file\nand the number of event files because some event files don't have match data in the open-data.\n\n"
      ]
    },
    {
      "cell_type": "code",
      "execution_count": null,
      "metadata": {
        "collapsed": false
      },
      "outputs": [],
      "source": [
        "df_match = parser.match(competition_id=11, season_id=1)\ndf_match.info()"
      ]
    },
    {
      "cell_type": "markdown",
      "metadata": {},
      "source": [
        "## Lineup data\n\n"
      ]
    },
    {
      "cell_type": "code",
      "execution_count": null,
      "metadata": {
        "collapsed": false
      },
      "outputs": [],
      "source": [
        "df_lineup = parser.lineup(7478)\ndf_lineup.info()"
      ]
    },
    {
      "cell_type": "markdown",
      "metadata": {},
      "source": [
        "## Event data\n\n"
      ]
    },
    {
      "cell_type": "code",
      "execution_count": null,
      "metadata": {
        "collapsed": false
      },
      "outputs": [],
      "source": [
        "df_event, df_related, df_freeze, df_tactics = parser.event(7478)\n\n# exploring the data\ndf_event.info()\ndf_related.info()\ndf_freeze.info()\ndf_tactics.info()"
      ]
    },
    {
      "cell_type": "markdown",
      "metadata": {},
      "source": [
        "## 360 data\n\n"
      ]
    },
    {
      "cell_type": "code",
      "execution_count": null,
      "metadata": {
        "collapsed": false
      },
      "outputs": [],
      "source": [
        "df_frame, df_visible = parser.frame(3788741)\n\n# exploring the data\ndf_frame.info()\ndf_visible.info()"
      ]
    }
  ],
  "metadata": {
    "kernelspec": {
      "display_name": "Python 3",
      "language": "python",
      "name": "python3"
    },
    "language_info": {
      "codemirror_mode": {
        "name": "ipython",
        "version": 3
      },
      "file_extension": ".py",
      "mimetype": "text/x-python",
      "name": "python",
      "nbconvert_exporter": "python",
      "pygments_lexer": "ipython3",
      "version": "3.10.5"
    }
  },
  "nbformat": 4,
  "nbformat_minor": 0
}