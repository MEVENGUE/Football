{
  "cells": [
    {
      "cell_type": "code",
      "execution_count": null,
      "metadata": {
        "collapsed": false
      },
      "outputs": [],
      "source": [
        "%matplotlib inline"
      ]
    },
    {
      "cell_type": "markdown",
      "metadata": {},
      "source": [
        "\n# StatsBomb 360\nThis example shows how to plot the StatsBomb 360 data.\nCode by `@abhisheksh_98 <https://twitter.com/abhisheksh_98>`_\n"
      ]
    },
    {
      "cell_type": "code",
      "execution_count": null,
      "metadata": {
        "collapsed": false
      },
      "outputs": [],
      "source": [
        "import matplotlib.pyplot as plt\nfrom mplsoccer import Pitch, Sbopen\nimport numpy as np\n\n## load in Statsbomb360 data remotely \nparser = Sbopen()\nframes, visible = parser.frame(3788741)\n\n## get plotting data\nframe_idx = 50\nframe_id = visible.iloc[50].id\n\nvisible_area = np.array(visible.iloc[frame_idx].visible_area).reshape(-1, 2)\nplayer_position_data = frames[frames.id == frame_id]\n\nteammate_locs = player_position_data[player_position_data.teammate]\nopponent_locs = player_position_data[~player_position_data.teammate]\n\n## set up pitch\np = Pitch(pitch_type='statsbomb')\nfig, ax = p.draw(figsize=(12,8))\n\np.scatter(teammate_locs.x, teammate_locs.y, c='orange', s=80, ec='k', ax=ax)\np.scatter(opponent_locs.x, opponent_locs.y, c='dodgerblue', s=80, ec='k', ax=ax)\np.polygon([visible_area], color=(1, 0, 0, 0.3), ax=ax)\n\nplt.show() ##to see the plot. You don't need this if you're using a jupyter notebook"
      ]
    }
  ],
  "metadata": {
    "kernelspec": {
      "display_name": "Python 3",
      "language": "python",
      "name": "python3"
    },
    "language_info": {
      "codemirror_mode": {
        "name": "ipython",
        "version": 3
      },
      "file_extension": ".py",
      "mimetype": "text/x-python",
      "name": "python",
      "nbconvert_exporter": "python",
      "pygments_lexer": "ipython3",
      "version": "3.10.5"
    }
  },
  "nbformat": 4,
  "nbformat_minor": 0
}