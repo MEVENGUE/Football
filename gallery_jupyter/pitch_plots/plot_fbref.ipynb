{
  "cells": [
    {
      "cell_type": "code",
      "execution_count": null,
      "metadata": {
        "collapsed": false
      },
      "outputs": [],
      "source": [
        "%matplotlib inline"
      ]
    },
    {
      "cell_type": "markdown",
      "metadata": {},
      "source": [
        "\n# FBRef Pressure\n\nThis example shows how to scrape pressure events from FBRef.com and plot them as a heatmap.\n"
      ]
    },
    {
      "cell_type": "code",
      "execution_count": null,
      "metadata": {
        "collapsed": false
      },
      "outputs": [],
      "source": [
        "from urllib.request import urlopen\n\nimport matplotlib.patheffects as path_effects\nimport matplotlib.pyplot as plt\nimport pandas as pd\nfrom PIL import Image\n\nfrom mplsoccer import Pitch, FontManager, add_image"
      ]
    },
    {
      "cell_type": "markdown",
      "metadata": {},
      "source": [
        "Scrape the data via a link to a specific table.\nTo get the link for a different league,\nfind the table you want from the website. Then click \"Share & more\" and copy the link from\nthe option \"Modify & Share Table\". Then \"click url for sharing\" and get the table as a url.\n\n"
      ]
    },
    {
      "cell_type": "code",
      "execution_count": null,
      "metadata": {
        "collapsed": false
      },
      "outputs": [],
      "source": [
        "URL = 'https://fbref.com/en/share/eDK2O'\ndf = pd.read_html(URL)[0]\n# select a subset of the columns (Squad and pressure columns)\ndf = df[['Unnamed: 0_level_0', 'Pressures']].copy()\ndf.columns = df.columns.droplevel()  # drop the top-level of the multi-index"
      ]
    },
    {
      "cell_type": "markdown",
      "metadata": {},
      "source": [
        "Get the league average percentages\n\n"
      ]
    },
    {
      "cell_type": "code",
      "execution_count": null,
      "metadata": {
        "collapsed": false
      },
      "outputs": [],
      "source": [
        "pressure_cols = ['Def 3rd', 'Mid 3rd', 'Att 3rd']\ndf_total = pd.DataFrame(df[pressure_cols].sum())\ndf_total.columns = ['total']\ndf_total = df_total.T\ndf_total = df_total.divide(df_total.sum(axis=1), axis=0) * 100"
      ]
    },
    {
      "cell_type": "markdown",
      "metadata": {},
      "source": [
        "Calculate the percentages for each team and sort so that the teams which press higher are last\n\n"
      ]
    },
    {
      "cell_type": "code",
      "execution_count": null,
      "metadata": {
        "collapsed": false
      },
      "outputs": [],
      "source": [
        "df[pressure_cols] = df[pressure_cols].divide(df[pressure_cols].sum(axis=1), axis=0) * 100.\ndf.sort_values(['Att 3rd', 'Def 3rd'], ascending=[True, False], inplace=True)"
      ]
    },
    {
      "cell_type": "markdown",
      "metadata": {},
      "source": [
        "Get the StatsBomb logo and Fonts\n\n"
      ]
    },
    {
      "cell_type": "code",
      "execution_count": null,
      "metadata": {
        "collapsed": false
      },
      "outputs": [],
      "source": [
        "SB_LOGO_URL = ('https://raw.githubusercontent.com/statsbomb/open-data/'\n               'master/img/SB%20-%20Icon%20Lockup%20-%20Colour%20positive.png')\nsb_logo = Image.open(urlopen(SB_LOGO_URL))\n\n# a FontManager object for using a google font (default Robotto)\nfm = FontManager()\n# path effects\npath_eff = [path_effects.Stroke(linewidth=3, foreground='black'),\n            path_effects.Normal()]"
      ]
    },
    {
      "cell_type": "markdown",
      "metadata": {},
      "source": [
        "Plot the percentages\n\n"
      ]
    },
    {
      "cell_type": "code",
      "execution_count": null,
      "metadata": {
        "collapsed": false
      },
      "outputs": [],
      "source": [
        "# setup a mplsoccer pitch\npitch = Pitch(line_zorder=2, line_color='black', pad_top=20)\n\n# mplsoccer calculates the binned statistics usually from raw locations, such as pressure events\n# for this example we will create a binned statistic dividing\n# the pitch into thirds for one point (0, 0)\n# we will fill this in a loop later with each team's statistics from the dataframe\nbin_statistic = pitch.bin_statistic([0], [0], statistic='count', bins=(3, 1))\n\nGRID_HEIGHT = 0.8\nCBAR_WIDTH = 0.03\nfig, axs = pitch.grid(nrows=4, ncols=5, figheight=20,\n                      # leaves some space on the right hand side for the colorbar\n                      grid_width=0.88, left=0.025,\n                      endnote_height=0.03, endnote_space=0,\n                      # Turn off the endnote/title axis. I usually do this after\n                      # I am happy with the chart layout and text placement\n                      axis=False,\n                      title_space=0.02, title_height=0.06, grid_height=GRID_HEIGHT)\nfig.set_facecolor('white')\n\nteams = df['Squad'].values\nvmin = df[pressure_cols].min().min()  # we normalise the heatmaps with the min / max values\nvmax = df[pressure_cols].max().max()\nfor i, ax in enumerate(axs['pitch'].flat[:len(teams)]):\n    # the top of the StatsBomb pitch is zero\n    # plot the title half way between zero and -20 (the top padding)\n    ax.text(60, -10, teams[i],\n            ha='center', va='center', fontsize=50,\n            fontproperties=fm.prop)\n\n    # fill in the bin statistics from df and plot the heatmap\n    bin_statistic['statistic'] = df.loc[df.Squad == teams[i], pressure_cols].values\n    heatmap = pitch.heatmap(bin_statistic, ax=ax, cmap='coolwarm', vmin=vmin, vmax=vmax)\n    annotate = pitch.label_heatmap(bin_statistic, color='white', fontproperties=fm.prop,\n                                   path_effects=path_eff, fontsize=50, ax=ax,\n                                   str_format='{0:.0f}%', ha='center', va='center')\n\n# if its the Bundesliga remove the two spare pitches\nif len(teams) == 18:\n    for ax in axs['pitch'][-1, 3:]:\n        ax.remove()\n\n# add cbar axes\ncbar_bottom = axs['pitch'][-1, 0].get_position().y0\ncbar_left = axs['pitch'][0, -1].get_position().x1 + 0.01\nax_cbar = fig.add_axes((cbar_left, cbar_bottom, CBAR_WIDTH,\n                        # take a little bit off the height because of padding\n                        GRID_HEIGHT - 0.036))\ncbar = plt.colorbar(heatmap, cax=ax_cbar)\nfor label in cbar.ax.get_yticklabels():\n    label.set_fontproperties(fm.prop)\n    label.set_fontsize(50)\n\n# title and endnote\nadd_image(sb_logo, fig,\n          left=axs['endnote'].get_position().x0,\n          bottom=axs['endnote'].get_position().y0,\n          height=axs['endnote'].get_position().height)\ntitle = axs['title'].text(0.5, 0.5, 'Pressure events %, Bundesliga, 2019/20',\n                          ha='center', va='center', fontsize=70)"
      ]
    },
    {
      "cell_type": "markdown",
      "metadata": {},
      "source": [
        "Plot the percentage point difference\n\n"
      ]
    },
    {
      "cell_type": "code",
      "execution_count": null,
      "metadata": {
        "collapsed": false
      },
      "outputs": [],
      "source": [
        "# Calculate the percentage point difference from the league average\ndf[pressure_cols] = df[pressure_cols].values - df_total.values\n\nGRID_HEIGHT = 0.76\nfig, axs = pitch.grid(nrows=4, ncols=5, figheight=20,\n                      # leaves some space on the right hand side for the colorbar\n                      grid_width=0.88, left=0.025,\n                      endnote_height=0.03, endnote_space=0,\n                      # Turn off the endnote/title axis. I usually do this after\n                      # I am happy with the chart layout and text placement\n                      axis=False,\n                      title_space=0.02, title_height=0.1, grid_height=GRID_HEIGHT)\nfig.set_facecolor('white')\n\nteams = df['Squad'].values\nvmin = df[pressure_cols].min().min()  # we normalise the heatmaps with the min / max values\nvmax = df[pressure_cols].max().max()\n\nfor i, ax in enumerate(axs['pitch'].flat[:len(teams)]):\n    # the top of the StatsBomb pitch is zero\n    # plot the title half way between zero and -20 (the top padding)\n    ax.text(60, -10, teams[i], ha='center', va='center', fontsize=50, fontproperties=fm.prop)\n\n    # fill in the bin statistics from df and plot the heatmap\n    bin_statistic['statistic'] = df.loc[df.Squad == teams[i], pressure_cols].values\n    heatmap = pitch.heatmap(bin_statistic, ax=ax, cmap='coolwarm', vmin=vmin, vmax=vmax)\n    annotate = pitch.label_heatmap(bin_statistic, color='white', fontproperties=fm.prop,\n                                   path_effects=path_eff, str_format='{0:.0f}%', fontsize=50,\n                                   ax=ax, ha='center', va='center')\n\n# if its the Bundesliga remove the two spare pitches\nif len(teams) == 18:\n    for ax in axs['pitch'][-1, 3:]:\n        ax.remove()\n\n# add cbar axes\ncbar_bottom = axs['pitch'][-1, 0].get_position().y0\ncbar_left = axs['pitch'][0, -1].get_position().x1 + 0.01\nax_cbar = fig.add_axes((cbar_left, cbar_bottom, CBAR_WIDTH,\n                        # take a little bit off the height because of padding\n                        GRID_HEIGHT - 0.035))\ncbar = plt.colorbar(heatmap, cax=ax_cbar)\nfor label in cbar.ax.get_yticklabels():\n    label.set_fontproperties(fm.prop)\n    label.set_fontsize(50)\n\n# title and endnote\nadd_image(sb_logo, fig,\n          left=axs['endnote'].get_position().x0,\n          bottom=axs['endnote'].get_position().y0,\n          height=axs['endnote'].get_position().height)\nTITLE = 'Pressure events, percentage point difference\\nfrom the Bundesliga average 2019/20'\ntitle = axs['title'].text(0.5, 0.5, TITLE, ha='center', va='center', fontsize=60)\n\nplt.show()  # If you are using a Jupyter notebook you do not need this line"
      ]
    }
  ],
  "metadata": {
    "kernelspec": {
      "display_name": "Python 3",
      "language": "python",
      "name": "python3"
    },
    "language_info": {
      "codemirror_mode": {
        "name": "ipython",
        "version": 3
      },
      "file_extension": ".py",
      "mimetype": "text/x-python",
      "name": "python",
      "nbconvert_exporter": "python",
      "pygments_lexer": "ipython3",
      "version": "3.10.5"
    }
  },
  "nbformat": 4,
  "nbformat_minor": 0
}